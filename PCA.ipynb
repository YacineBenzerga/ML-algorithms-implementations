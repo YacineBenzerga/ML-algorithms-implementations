{
 "cells": [
  {
   "cell_type": "code",
   "execution_count": null,
   "metadata": {
    "collapsed": true
   },
   "outputs": [],
   "source": [
    "import numpy as np\n",
    "\n",
    "class PCA():\n",
    "    \n",
    "    def __init__(self , n_components=0):\n",
    "        self.n_components = n_components\n",
    "    \n",
    "    def fit(self,X):\n",
    "        cov_mat = np.cov(X.T)\n",
    "        eigen_vals , eigen_vecs = np.linalg.eig(cov_mat)\n",
    "        tot = sum(eigen_vals)\n",
    "        self.explained_variance_ratio_ = [(i / tot) for i in sorted(eigen_vals, reverse=True)][:self.n_components]\n",
    "        eigen_pairs = [(np.abs(eigen_vals[i]) , eigen_vecs[:,i]) for i in range(len(eigen_vals))]\n",
    "        eigen_pairs.sort(reverse=True)\n",
    "        self.pc_ = []\n",
    "        for i in range(len(eigen_vals)):\n",
    "            self.pc_.append(eigen_pairs[i][1][:,np.newaxis])\n",
    "        self.wmatrix_ = np.array(self.pc_).reshape(len(eigen_vals) , len(eigen_vals))\n",
    "        return self\n",
    "\n",
    "    def transform(self,X):\n",
    "        return X.dot(self.wmatrix_)"
   ]
  }
 ],
 "metadata": {
  "kernelspec": {
   "display_name": "Python 3",
   "language": "python",
   "name": "python3"
  },
  "language_info": {
   "codemirror_mode": {
    "name": "ipython",
    "version": 3
   },
   "file_extension": ".py",
   "mimetype": "text/x-python",
   "name": "python",
   "nbconvert_exporter": "python",
   "pygments_lexer": "ipython3",
   "version": "3.6.1"
  }
 },
 "nbformat": 4,
 "nbformat_minor": 2
}
